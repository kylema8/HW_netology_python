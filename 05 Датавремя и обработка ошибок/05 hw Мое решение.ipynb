{
 "cells": [
  {
   "cell_type": "code",
   "execution_count": 7,
   "id": "3fc35f21",
   "metadata": {},
   "outputs": [
    {
     "name": "stdout",
     "output_type": "stream",
     "text": [
      "Wednesday, October 02, 2002\n",
      "Friday, 11.10.13\n",
      "Thursday, 18 August 1977\n"
     ]
    }
   ],
   "source": [
    "\"\"\"Печатные газеты использовали свой формат дат для каждого выпуска. \n",
    "Для каждой газеты из списка напишите формат указанной даты для перевода в объект datetime:\n",
    "The Moscow Times - Wednesday, October 2, 2002\n",
    "The Guardian - Friday, 11.10.13\n",
    "Daily News - Thursday, 18 August 1977\"\"\"\n",
    "from datetime import datetime\n",
    "mt = 'Wednesday, October 2, 2002'\n",
    "g = 'Friday, 11.10.13'\n",
    "dn = 'Thursday, 18 August 1977'\n",
    "print(datetime.strftime(datetime.strptime(mt, '%A, %B %d, %Y'), '%A, %B %d, %Y'))\n",
    "print(datetime.strftime(datetime.strptime(g, '%A, %d.%m.%y'), '%A, %d.%m.%y'))\n",
    "print(datetime.strftime(datetime.strptime(dn, '%A, %d %B %Y'), '%A, %d %B %Y'))"
   ]
  },
  {
   "cell_type": "code",
   "execution_count": 24,
   "id": "d21aa4e5",
   "metadata": {},
   "outputs": [
    {
     "name": "stdout",
     "output_type": "stream",
     "text": [
      "2018-04-02\n",
      "True\n",
      "2018-02-29\n",
      "False\n",
      "2018-19-02\n",
      "False\n"
     ]
    }
   ],
   "source": [
    "\"\"\"Дан поток дат в формате YYYY-MM-DD, в которых встречаются некорректные значения:\n",
    "stream = [‘2018-04-02’, ‘2018-02-29’, ‘2018-19-02’]\n",
    "Напишите функцию, которая проверяет эти даты на корректность. \n",
    "Т. е. для каждой даты возвращает True (дата корректна) или False (некорректная дата).\"\"\"\n",
    "\n",
    "stream = ['2018-04-02', '2018-02-29', '2018-19-02']\n",
    "def check_(s):\n",
    "    print(s)\n",
    "    try:\n",
    "        datetime.strptime(s, '%Y-%m-%d')\n",
    "        return True\n",
    "    except:\n",
    "        return False\n",
    "    \n",
    "for d in stream:\n",
    "    print(check_(d))"
   ]
  },
  {
   "cell_type": "code",
   "execution_count": 37,
   "id": "d44c1b6f",
   "metadata": {},
   "outputs": [
    {
     "name": "stdout",
     "output_type": "stream",
     "text": [
      "['2020-01-01', '2020-01-02', '2020-01-03', '2020-01-04', '2020-01-05', '2020-01-06', '2020-01-07', '2020-01-08', '2020-01-09', '2020-01-10', '2020-01-11', '2020-01-12', '2020-01-13', '2020-01-14']\n"
     ]
    }
   ],
   "source": [
    "\"\"\"Напишите функцию date_range, которая возвращает список дат за период от start_date до end_date. \n",
    "Даты должны вводиться в формате YYYY-MM-DD. В случае неверного формата или при start_date > end_date \n",
    "должен возвращаться пустой список.\"\"\"\n",
    "from datetime import timedelta\n",
    "import traceback\n",
    "def date_range(st, end):\n",
    "    res = []\n",
    "    try:\n",
    "        st_d = datetime.strptime(st, '%Y-%m-%d')\n",
    "        end_d = datetime.strptime(end, '%Y-%m-%d')\n",
    "        if st_d > end_d:\n",
    "            return []\n",
    "        else:\n",
    "            while st_d < end_d:\n",
    "                res.append(datetime.strftime(st_d, '%Y-%m-%d'))\n",
    "                st_d = st_d + timedelta(days=1)\n",
    "            return res\n",
    "    except:\n",
    "        print('err')\n",
    "        return []\n",
    "print(date_range('2020-01-01', '2020-01-15'))"
   ]
  },
  {
   "cell_type": "code",
   "execution_count": null,
   "id": "02a13e3c",
   "metadata": {},
   "outputs": [],
   "source": []
  }
 ],
 "metadata": {
  "kernelspec": {
   "display_name": "Python 3 (ipykernel)",
   "language": "python",
   "name": "python3"
  },
  "language_info": {
   "codemirror_mode": {
    "name": "ipython",
    "version": 3
   },
   "file_extension": ".py",
   "mimetype": "text/x-python",
   "name": "python",
   "nbconvert_exporter": "python",
   "pygments_lexer": "ipython3",
   "version": "3.9.7"
  }
 },
 "nbformat": 4,
 "nbformat_minor": 5
}
