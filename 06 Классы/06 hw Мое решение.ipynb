{
 "cells": [
  {
   "cell_type": "markdown",
   "id": "c01d9adc",
   "metadata": {},
   "source": [
    "### Задание 1\n",
    "Напишите функцию, которая возвращает название валюты (поле ‘Name’) \n",
    "с максимальным значением курса с помощью сервиса\n",
    "www.cbr-xml-daily.ru...ly_json.js"
   ]
  },
  {
   "cell_type": "code",
   "execution_count": 4,
   "id": "183c070a",
   "metadata": {},
   "outputs": [],
   "source": [
    "import requests\n",
    "j = requests.get('https://www.cbr-xml-daily.ru/daily_json.js', timeout=10).json()"
   ]
  },
  {
   "cell_type": "code",
   "execution_count": 68,
   "id": "8b53e4ce",
   "metadata": {},
   "outputs": [
    {
     "name": "stdout",
     "output_type": "stream",
     "text": [
      "СДР (специальные права заимствования)\n"
     ]
    }
   ],
   "source": [
    "class AllVal:\n",
    "    def __init__(self, j):\n",
    "        self.valute = j\n",
    "        self.l_val = []\n",
    "        self.l_f_name = []\n",
    "    def fill_kurs(self):\n",
    "        \"\"\"Заполянем списки курсами и названиями валют\"\"\"\n",
    "        for v in self.valute['Valute'].items():\n",
    "            self.l_val.append(v[1]['Value'])\n",
    "            self.l_f_name.append(v[1]['Name'])\n",
    "    def get_max_kurs(self):\n",
    "        self.fill_kurs()\n",
    "        max_val = max(self.l_val)\n",
    "        return self.l_f_name[self.l_val.index(max_val)]\n",
    "    \n",
    "a = AllVal(j)\n",
    "print(a.get_max_kurs())"
   ]
  },
  {
   "cell_type": "markdown",
   "id": "666482fd",
   "metadata": {},
   "source": [
    "### Задание 2\n",
    "Добавьте в класс Rate параметр diff (со значениями True или False), \n",
    "который в случае значения True в методах курсов валют (eur, usd итд) будет возвращать не курс валюты, \n",
    "а изменение по сравнению в прошлым значением. \n",
    "Считайте, self.diff будет принимать значение True только при возврате значения курса. \n",
    "При отображении всей информации о валюте он не используется."
   ]
  },
  {
   "cell_type": "code",
   "execution_count": 90,
   "id": "a3fbd968",
   "metadata": {},
   "outputs": [],
   "source": [
    "class Rate:\n",
    "    def __init__(self, format_='value',  diff = False):\n",
    "        self.format = format_\n",
    "        self. diff = diff\n",
    "    \n",
    "    def exchange_rates(self):\n",
    "        return j['Valute']\n",
    "    \n",
    "    def make_format(self, currency):\n",
    "        response = self.exchange_rates()\n",
    "        \n",
    "        if currency in response:\n",
    "            if self.format == 'full':\n",
    "                return response[currency]\n",
    "            \n",
    "            if self.format == 'value':\n",
    "                if self.diff == False:\n",
    "                    return response[currency]['Value']\n",
    "                else:\n",
    "                    return round(response[currency]['Value'] - response[currency]['Previous'], 2)\n",
    "                \n",
    "        return 'Error'\n",
    "    \n",
    "    def eur(self):\n",
    "        \"\"\"Возвращает курс евро на сегодня в формате self.format\"\"\"\n",
    "        return self.make_format('EUR')\n",
    "    \n",
    "    def usd(self):\n",
    "        \"\"\"Возвращает курс доллара на сегодня в формате self.format\"\"\"\n",
    "        return self.make_format('USD')\n",
    "    \n",
    "    def brl(self):\n",
    "        \"\"\"Возвращает курс бразильского реала на сегодня в формате self.format\"\"\"\n",
    "        return self.make_format('BRL')"
   ]
  },
  {
   "cell_type": "code",
   "execution_count": 91,
   "id": "bba0ef28",
   "metadata": {},
   "outputs": [
    {
     "name": "stdout",
     "output_type": "stream",
     "text": [
      "6.51\n"
     ]
    },
    {
     "data": {
      "text/plain": [
       "{'ID': 'R01235',\n",
       " 'NumCode': '840',\n",
       " 'CharCode': 'USD',\n",
       " 'Nominal': 1,\n",
       " 'Name': 'Доллар США',\n",
       " 'Value': 86.9288,\n",
       " 'Previous': 80.4194}"
      ]
     },
     "execution_count": 91,
     "metadata": {},
     "output_type": "execute_result"
    }
   ],
   "source": [
    "r = Rate(format_='value')\n",
    "rf = Rate(format_='full')\n",
    "r.diff = True\n",
    "print(r.usd())\n",
    "rf.usd()"
   ]
  },
  {
   "cell_type": "markdown",
   "id": "31373ce3",
   "metadata": {},
   "source": [
    "### Задание 3\n",
    "Напишите класс Designer, который учитывает количество международных премий. \n",
    "Подсказки в коде занятия в разделе “Домашнее задание задача 3”.\n",
    "\n",
    "Комментарий по классу Designer такой:\n",
    "Напишите класс Designer, который учитывает количество международных премий для дизайнеров \n",
    "(из презентации: “Повышение на 1 грейд за каждые 7 баллов. Получение международной премии – это +2 балла”). \n",
    "Считайте, что при выходе на работу сотрудник уже имеет две премии и их количество не меняется со стажем \n",
    "(конечно если хотите это можно вручную менять).\n",
    "\n",
    "Класс Designer пишется по аналогии с классом Developer из материалов занятия. \n",
    "Комментарий про его условия Вика написала выше: “Повышение на 1 грейд за каждые 7 баллов. \n",
    "Получение международной премии – это +2 балла”"
   ]
  },
  {
   "cell_type": "code",
   "execution_count": 92,
   "id": "2884db30",
   "metadata": {},
   "outputs": [],
   "source": [
    "class Employee:\n",
    "    def __init__(self, name, seniority):\n",
    "        self.name = name\n",
    "        self.seniority = seniority\n",
    "        \n",
    "        self.grade = 1\n",
    "    \n",
    "    def grade_up(self):\n",
    "        \"\"\"Повышает уровень сотрудника\"\"\"\n",
    "        self.grade += 1\n",
    "    \n",
    "    def publish_grade(self):\n",
    "        \"\"\"Публикация результатов аккредитации сотрудников\"\"\"\n",
    "        print(self.name, self.grade)\n",
    "    \n",
    "    def check_if_it_is_time_for_upgrade(self):\n",
    "        pass"
   ]
  },
  {
   "cell_type": "code",
   "execution_count": 93,
   "id": "9883540b",
   "metadata": {},
   "outputs": [],
   "source": [
    "class Developer(Employee):\n",
    "    def __init__(self, name, seniority):\n",
    "        super().__init__(name, seniority)\n",
    "    \n",
    "    def check_if_it_is_time_for_upgrade(self):\n",
    "        # для каждой аккредитации увеличиваем счетчик на 1\n",
    "        # пока считаем, что все разработчики проходят аккредитацию\n",
    "        self.seniority += 1\n",
    "        \n",
    "        # условие повышения сотрудника из презентации\n",
    "        if self.seniority % 5 == 0:\n",
    "            self.grade_up()\n",
    "        \n",
    "        # публикация результатов\n",
    "        return self.publish_grade()"
   ]
  },
  {
   "cell_type": "code",
   "execution_count": 102,
   "id": "e6414281",
   "metadata": {},
   "outputs": [],
   "source": [
    "class Desiner(Employee):\n",
    "    def __init__(self, name, seniority):\n",
    "        super().__init__(name, seniority)\n",
    "    \n",
    "    def check_if_it_is_time_for_upgrade(self, is_premi = False):\n",
    "        # для каждой аккредитации увеличиваем счетчик на 1\n",
    "        # Получение международной премии – это +2 балла\n",
    "        if is_premi:\n",
    "            self.seniority += 2\n",
    "        else:\n",
    "            self.seniority += 1\n",
    "        \n",
    "        # условие повышения сотрудника из презентации\n",
    "        if (self.seniority - 7*(self.grade - 1)) >= 7:\n",
    "            self.grade_up()\n",
    "        \n",
    "        # публикация результатов\n",
    "        return self.publish_grade()"
   ]
  },
  {
   "cell_type": "code",
   "execution_count": 105,
   "id": "34c948da",
   "metadata": {},
   "outputs": [
    {
     "name": "stdout",
     "output_type": "stream",
     "text": [
      "Александр 1\n",
      "Alena 1\n",
      "Александр 1\n",
      "Alena 1\n",
      "Александр 1\n",
      "Alena 1\n",
      "Александр 1\n",
      "Alena 1\n",
      "Александр 2\n",
      "Alena 2\n",
      "Александр 2\n",
      "Alena 2\n",
      "Александр 2\n",
      "Alena 2\n",
      "Александр 2\n",
      "Alena 2\n",
      "Александр 2\n",
      "Alena 2\n",
      "Александр 3\n",
      "Alena 3\n",
      "Александр 3\n",
      "Alena 3\n",
      "Александр 3\n",
      "Alena 3\n",
      "Александр 3\n",
      "Alena 3\n",
      "Александр 3\n",
      "Alena 4\n",
      "Александр 4\n",
      "Alena 4\n",
      "Александр 4\n",
      "Alena 4\n",
      "Александр 4\n",
      "Alena 4\n",
      "Александр 4\n",
      "Alena 4\n",
      "Александр 4\n",
      "Alena 5\n",
      "Александр 5\n",
      "Alena 5\n"
     ]
    }
   ],
   "source": [
    "alex = Developer('Александр', 0)\n",
    "alena = Desiner('Alena', 0)\n",
    "for i in range(20):\n",
    "    alex.check_if_it_is_time_for_upgrade()\n",
    "    alena.check_if_it_is_time_for_upgrade(i % 2)\n"
   ]
  },
  {
   "cell_type": "code",
   "execution_count": null,
   "id": "0e7ba60a",
   "metadata": {},
   "outputs": [],
   "source": []
  },
  {
   "cell_type": "code",
   "execution_count": null,
   "id": "ef7f060d",
   "metadata": {},
   "outputs": [],
   "source": []
  }
 ],
 "metadata": {
  "kernelspec": {
   "display_name": "Python 3 (ipykernel)",
   "language": "python",
   "name": "python3"
  },
  "language_info": {
   "codemirror_mode": {
    "name": "ipython",
    "version": 3
   },
   "file_extension": ".py",
   "mimetype": "text/x-python",
   "name": "python",
   "nbconvert_exporter": "python",
   "pygments_lexer": "ipython3",
   "version": "3.9.7"
  }
 },
 "nbformat": 4,
 "nbformat_minor": 5
}
