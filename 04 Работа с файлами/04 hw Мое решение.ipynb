{
 "cells": [
  {
   "cell_type": "code",
   "execution_count": 10,
   "id": "382aa3ac",
   "metadata": {},
   "outputs": [],
   "source": [
    "import json\n",
    "l_id = []\n",
    "l_val = []\n",
    "with open('C:\\dwh_labs\\purchase_log.txt', 'r', encoding='utf-8') as f:\n",
    "    for i, line in enumerate(f):\n",
    "        if 0 < i:\n",
    "            sl = json.loads(line)\n",
    "            l_id.append(sl['user_id'])\n",
    "            l_val.append(sl['category'])\n",
    "\n",
    "            purchases = dict(zip(l_id, l_val))"
   ]
  },
  {
   "cell_type": "code",
   "execution_count": 35,
   "id": "01fac324",
   "metadata": {},
   "outputs": [
    {
     "name": "stdout",
     "output_type": "stream",
     "text": [
      "end\n"
     ]
    }
   ],
   "source": [
    "ss = []\n",
    "with open(r'C:\\dwh_labs\\1.csv', 'r') as f:\n",
    "    with open(r'C:\\dwh_labs\\funnel.csv', 'w') as fw:\n",
    "        fw.write('id,source,product\\n')\n",
    "        for i, line in enumerate(f):\n",
    "            if 0<i:\n",
    "                s = line.strip().split(',')\n",
    "                if s[0] in purchases:\n",
    "                    s.append(purchases[s[0]])\n",
    "                    fw.write(s[0] + ',' + s[1] + ',' + s[2] + '\\n')\n",
    "print('end')"
   ]
  },
  {
   "cell_type": "code",
   "execution_count": null,
   "id": "29442462",
   "metadata": {},
   "outputs": [],
   "source": []
  }
 ],
 "metadata": {
  "kernelspec": {
   "display_name": "Python 3 (ipykernel)",
   "language": "python",
   "name": "python3"
  },
  "language_info": {
   "codemirror_mode": {
    "name": "ipython",
    "version": 3
   },
   "file_extension": ".py",
   "mimetype": "text/x-python",
   "name": "python",
   "nbconvert_exporter": "python",
   "pygments_lexer": "ipython3",
   "version": "3.9.7"
  }
 },
 "nbformat": 4,
 "nbformat_minor": 5
}
