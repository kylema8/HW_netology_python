{
 "cells": [
  {
   "cell_type": "code",
   "execution_count": 7,
   "id": "f456c249",
   "metadata": {},
   "outputs": [
    {
     "name": "stdout",
     "output_type": "stream",
     "text": [
      "Введите строку kkk9kkk\n",
      "3\n",
      "9\n"
     ]
    }
   ],
   "source": [
    "'''Задание 1\n",
    "Дана переменная, в которой хранится слово из латинских букв. Напишите код, который выводит на экран:\n",
    "среднюю букву, если число букв в слове нечетное;\n",
    "две средних буквы, если число букв четное.\n",
    "'''\n",
    "\n",
    "st = input('Введите строку ')\n",
    "if len(st) % 2 == 0:\n",
    "    midl = len(st)//2\n",
    "    print(st[midl-1:midl+1])\n",
    "else:\n",
    "    midl = len(st)//2\n",
    "    print(st[midl])"
   ]
  },
  {
   "cell_type": "code",
   "execution_count": 11,
   "id": "af4bf4d6",
   "metadata": {},
   "outputs": [
    {
     "name": "stdout",
     "output_type": "stream",
     "text": [
      "Введите число:0\n",
      "Результат  0\n"
     ]
    }
   ],
   "source": [
    "'''Задание 2\n",
    "Напишите программу, которая последовательно запрашивает у пользователя числа (по одному за раз) \n",
    "и после первого нуля выводит сумму всех ранее введенных чисел.\n",
    "'''\n",
    "\n",
    "summ = 0\n",
    "numb = int(input('Введите число:'))\n",
    "while numb != 0:\n",
    "    summ = summ + numb\n",
    "    numb = int(input('Введите число:'))\n",
    "print('Результат ', summ)"
   ]
  },
  {
   "cell_type": "code",
   "execution_count": 23,
   "id": "1a3dde9e",
   "metadata": {},
   "outputs": [
    {
     "name": "stdout",
     "output_type": "stream",
     "text": [
      "Alex и Emma\n",
      "Arthur и Kate\n",
      "John и Kira\n",
      "Peter и Liza\n",
      "Richard и Trisha\n"
     ]
    }
   ],
   "source": [
    "'''адание 3\n",
    "Мы делаем MVP dating-сервиса, и у нас есть список парней и девушек.\n",
    "Выдвигаем гипотезу: лучшие рекомендации мы получим, если просто отсортируем \n",
    "имена по алфавиту и познакомим людей с одинаковыми индексами после сортировки! \n",
    "Но мы не будем никого знакомить, если кто-то может остаться без пары:\n",
    "\n",
    "Примеры работы программы:\n",
    "\n",
    "boys = [‘Peter’, ‘Alex’, ‘John’, ‘Arthur’, ‘Richard’]\n",
    "girls = [‘Kate’, ‘Liza’, ‘Kira’, ‘Emma’, ‘Trisha’]\n",
    "Результат:\n",
    "\n",
    "Идеальные пары:\n",
    "Alex и Emma\n",
    "Arthur и Kate\n",
    "John и Kira\n",
    "Peter и Liza\n",
    "Richard и Trisha\n",
    "boys = [‘Peter’, ‘Alex’, ‘John’, ‘Arthur’, ‘Richard’, ‘Michael’]\n",
    "girls = [‘Kate’, ‘Liza’, ‘Kira’, ‘Emma’, ‘Trisha’]\n",
    "Результат:\n",
    "Внимание, кто-то может остаться без пары!'''\n",
    "\n",
    "boys = ['Peter', 'Alex', 'John', 'Arthur', 'Richard']\n",
    "girls = ['Kate', 'Liza', 'Kira', 'Emma', 'Trisha']\n",
    "\n",
    "i = 0\n",
    "if len(boys) == len (girls):\n",
    "    boys = sorted(boys)\n",
    "    girls = sorted(girls)\n",
    "    while i < len(boys):\n",
    "        print(boys[i], 'и', girls[i])\n",
    "        i += 1\n",
    "else:\n",
    "    print('Внимание, кто-то может остаться без пары!')\n"
   ]
  },
  {
   "cell_type": "code",
   "execution_count": 33,
   "id": "51e25ce3",
   "metadata": {},
   "outputs": [
    {
     "name": "stdout",
     "output_type": "stream",
     "text": [
      "Thailand - 23.9 C\n",
      "Germany - 13.8 C\n",
      "Russia - 3.7 C\n",
      "Poland - 12.0 C\n"
     ]
    }
   ],
   "source": [
    "'''Задание 4\n",
    "У нас есть список, содержащий информацию о среднедневной температуре в Фаренгейтах \n",
    "за произвольный период по странам (структура данных в примере). \n",
    "Необходимо написать код, который рассчитает среднюю температуру за период в Цельсиях(!) для каждой страны.\n",
    "\n",
    "Пример работы программы:\n",
    "\n",
    "countries_temperature = [\n",
    "[‘Thailand’, [75.2, 77, 78.8, 73.4, 68, 75.2, 77]],\n",
    "[‘Germany’, [57.2, 55.4, 59, 59, 53.6]],\n",
    "[‘Russia’, [35.6, 37.4, 39.2, 41, 42.8, 39.2, 35.6]],\n",
    "[‘Poland’, [50, 50, 53.6, 57.2, 55.4, 55.4]]\n",
    "]\n",
    "Результат:\n",
    "\n",
    "Средняя температура в странах:\n",
    "Thailand - 23.9 С\n",
    "Germany - 13.8 С\n",
    "Russia - 3.7 С\n",
    "Poland - 12.0 С'''\n",
    "\n",
    "countries_temperature = [\n",
    "['Thailand', [75.2, 77, 78.8, 73.4, 68, 75.2, 77]],\n",
    "['Germany', [57.2, 55.4, 59, 59, 53.6]],\n",
    "['Russia', [35.6, 37.4, 39.2, 41, 42.8, 39.2, 35.6]],\n",
    "['Poland', [50, 50, 53.6, 57.2, 55.4, 55.4]]\n",
    "]\n",
    "\n",
    "for country in countries_temperature:\n",
    "    print(country[0], '-', round((sum(country[1]) / len(country[1]) -32) *5/9, 1), 'C')\n"
   ]
  },
  {
   "cell_type": "code",
   "execution_count": 50,
   "id": "5656ed37",
   "metadata": {},
   "outputs": [
    {
     "name": "stdout",
     "output_type": "stream",
     "text": [
      "Среднее количество просмотров на уникального пользователя: 23.25\n"
     ]
    },
    {
     "data": {
      "text/plain": [
       "\"\\nusers = []\\nuser_count = 0\\nsumm = 0\\n\\nfor looking in stream:\\n    data = looking.split(',')\\n    summ = summ + int(data[2])\\n    if data[1] not in users:\\n        user_count += 1\\n        users.append(data[1])\\nprint('Среднее количество просмотров на уникального пользователя:', round(summ/user_count, 2))\\n  \""
      ]
     },
     "execution_count": 50,
     "metadata": {},
     "output_type": "execute_result"
    }
   ],
   "source": [
    "'''Задание 5 (необязательное)\n",
    "Дан поток логов по количеству просмотренных страниц для каждого пользователя. \n",
    "Вам необходимо написать алгоритм, который считает среднее значение просмотров на пользователя. \n",
    "Т. е. надо посчитать отношение суммы всех просмотров к количеству уникальных пользователей.\n",
    "\n",
    "Примеры работы программы:\n",
    "\n",
    "stream = [\n",
    "‘2018-01-01,user1,3’,\n",
    "‘2018-01-07,user1,4’,\n",
    "‘2018-03-29,user1,1’,\n",
    "‘2018-04-04,user1,13’,\n",
    "‘2018-01-05,user2,7’,\n",
    "‘2018-06-14,user3,4’,\n",
    "‘2018-07-02,user3,10’,\n",
    "‘2018-03-21,user4,19’,\n",
    "‘2018-03-22,user4,4’,\n",
    "‘2018-04-22,user4,8’,\n",
    "‘2018-05-03,user4,9’,\n",
    "‘2018-05-11,user4,11’,\n",
    "]\n",
    "Результат:\n",
    "Среднее количество просмотров на уникального пользователя: 23.25\n",
    "\n",
    "stream = [\n",
    "‘2018-01-01,user100,150’,\n",
    "‘2018-01-07,user99,205’,\n",
    "‘2018-03-29,user1001,81’\n",
    "]\n",
    "Результат:\n",
    "Среднее количество просмотров на уникального пользователя: 145.33\n",
    "\n",
    "stream = [\n",
    "'2018-01-01,user100,150',\n",
    "'2018-01-07,user99,205',\n",
    "'2018-03-29,user1001,81'\n",
    "]'''\n",
    "\n",
    "stream = [\n",
    "'2018-01-01,user1,3',\n",
    "'2018-01-07,user1,4',\n",
    "'2018-03-29,user1,1',\n",
    "'2018-04-04,user1,13',\n",
    "'2018-01-05,user2,7',\n",
    "'2018-06-14,user3,4',\n",
    "'2018-07-02,user3,10',\n",
    "'2018-03-21,user4,19',\n",
    "'2018-03-22,user4,4',\n",
    "'2018-04-22,user4,8',\n",
    "'2018-05-03,user4,9',\n",
    "'2018-05-11,user4,11'\n",
    "]\n",
    "\n",
    "users = []\n",
    "marks = []\n",
    "for element in stream:\n",
    "    users.append(element.split(',')[1])\n",
    "    marks.append(int(element.split(',')[2]))\n",
    "print(f'Среднее количество просмотров на уникального пользователя: {round(sum(marks)/len(set(users)), 2)}')\n",
    "'''\n",
    "users = []\n",
    "user_count = 0\n",
    "summ = 0\n",
    "\n",
    "for looking in stream:\n",
    "    data = looking.split(',')\n",
    "    summ = summ + int(data[2])\n",
    "    if data[1] not in users:\n",
    "        user_count += 1\n",
    "        users.append(data[1])\n",
    "print('Среднее количество просмотров на уникального пользователя:', round(summ/user_count, 2))\n",
    "  '''\n"
   ]
  },
  {
   "cell_type": "code",
   "execution_count": 49,
   "id": "d5dce586",
   "metadata": {},
   "outputs": [
    {
     "name": "stdout",
     "output_type": "stream",
     "text": [
      "Введите числа: 1 1 2 2 3 3 4 5 7 7 7 7\n",
      "['1', '1', '2', '2', '3', '3', '4', '5', '7', '7', '7', '7']\n",
      "['1', '2', '3', '4', '5', '7']\n"
     ]
    }
   ],
   "source": [
    "'''Задание 6 (необязательное)\n",
    "Необходимо у пользователя запрашивать набор чисел разделенных пробелом. \n",
    "В результате должны выводиться числа, которые повторяются в вводе более одного раза.\n",
    "\n",
    "Примеры работы программы:\n",
    "\n",
    "Введите числа:\n",
    "4 8 0 3 4 2 0 3\n",
    "Результат:\n",
    "0 3 4\n",
    "\n",
    "Введите числа:\n",
    "1 1 2 2 3 3\n",
    "Результат:\n",
    "1 2 3\n",
    "\n",
    "Введите числа:\n",
    "1 1 1 1 1 2 2 2\n",
    "Результат:\n",
    "1 2'''\n",
    "\n",
    "nums_str = input('Введите числа: ')\n",
    "nums = nums_str.split(' ')\n",
    "i = 0\n",
    "res = []\n",
    "while i < len(nums):\n",
    "    if nums[i] not in res:\n",
    "        res.append(nums[i])\n",
    "    i += 1\n",
    "print(nums)\n",
    "print(res)"
   ]
  },
  {
   "cell_type": "code",
   "execution_count": null,
   "id": "bc2e6696",
   "metadata": {},
   "outputs": [],
   "source": []
  }
 ],
 "metadata": {
  "kernelspec": {
   "display_name": "Python 3 (ipykernel)",
   "language": "python",
   "name": "python3"
  },
  "language_info": {
   "codemirror_mode": {
    "name": "ipython",
    "version": 3
   },
   "file_extension": ".py",
   "mimetype": "text/x-python",
   "name": "python",
   "nbconvert_exporter": "python",
   "pygments_lexer": "ipython3",
   "version": "3.9.7"
  }
 },
 "nbformat": 4,
 "nbformat_minor": 5
}
